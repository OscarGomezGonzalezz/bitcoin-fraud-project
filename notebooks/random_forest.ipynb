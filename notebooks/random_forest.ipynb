{
 "cells": [
  {
   "cell_type": "code",
   "execution_count": null,
   "id": "9b015db7",
   "metadata": {},
   "outputs": [],
   "source": [
    "import pandas as pd\n",
    "import seaborn as sns\n",
    "import matplotlib.pyplot as plt\n",
    "from sklearn.model_selection import train_test_split\n",
    "from sklearn.preprocessing import StandardScaler\n",
    "from sklearn.ensemble import RandomForestClassifier\n",
    "from sklearn.metrics import classification_report, confusion_matrix\n",
    "import numpy as np\n",
    "\n",
    "def random_forest_model(csv_file, target_column, scale=False):\n",
    "    \n",
    "    # Cargar el archivo CSV\n",
    "    data = pd.read_csv(csv_file, sep=',')\n",
    "    \n",
    "    # Ver las primeras filas (opcional)\n",
    "    print(data.head())\n",
    "    \n",
    "    # Separar las variables predictoras (X) y la variable objetivo (y)\n",
    "    X = data.drop(target_column, axis=1)\n",
    "    y = data[target_column]\n",
    "    \n",
    "    # Guardar los nombres de las columnas\n",
    "    column_names = X.columns\n",
    "    \n",
    "    # Normalización (si se necesita)\n",
    "    if scale:\n",
    "        scaler = StandardScaler()\n",
    "        X = scaler.fit_transform(X)\n",
    "    \n",
    "    # Separación en conjunto de entrenamiento y prueba\n",
    "    X_train, X_test, y_train, y_test = train_test_split(X, y, test_size=0.2, random_state=42)\n",
    "    \n",
    "    # Inicialización y entrenamiento del modelo Random Forest\n",
    "    model = RandomForestClassifier(n_estimators=200, random_state=42)\n",
    "    model.fit(X_train, y_train)\n",
    "    \n",
    "    # Predicciones\n",
    "    y_pred = model.predict(X_test)\n",
    "    \n",
    "    # Evaluación del modelo\n",
    "    print(classification_report(y_test, y_pred))\n",
    "    print(confusion_matrix(y_test, y_pred))\n",
    "    \n",
    "    # Matriz de confusión\n",
    "    cm = confusion_matrix(y_test, y_pred)\n",
    "    plt.figure(figsize=(8,6))\n",
    "    sns.heatmap(cm, annot=True, fmt='d', cmap='Blues')\n",
    "    plt.title('Matriz de Confusión')\n",
    "    plt.xlabel('Predicción')\n",
    "    plt.ylabel('Real')\n",
    "    plt.show()\n",
    "    \n",
    "    # Importancia de las características\n",
    "    importances = model.feature_importances_\n",
    "    \n",
    "    # Si los datos fueron escalados, usamos los nombres de las columnas originales\n",
    "    if scale:\n",
    "        # Crear un DataFrame con las importancias y las columnas correspondientes\n",
    "        importances_df = pd.DataFrame({\n",
    "            'Feature': column_names,\n",
    "            'Importance': importances\n",
    "        })\n",
    "        # Ordenar las características por su importancia\n",
    "        importances_df = importances_df.sort_values(by='Importance', ascending=False)\n",
    "        plt.figure(figsize=(10,6))\n",
    "        sns.barplot(x='Importance', y='Feature', data=importances_df)\n",
    "        plt.title('Importancia de las Características')\n",
    "        plt.show()\n",
    "    \n",
    "    else:\n",
    "        # Si no se normalizó, podemos acceder a las columnas directamente\n",
    "        indices = np.argsort(importances)[::-1]\n",
    "        plt.figure(figsize=(10,6))\n",
    "        sns.barplot(x=importances[indices], y=column_names[indices])\n",
    "        plt.title('Importancia de las Características')\n",
    "        plt.show()\n",
    "    \n",
    "    # Devolver las métricas de evaluación como diccionario\n",
    "    metrics = {\n",
    "        \"classification_report\": classification_report(y_test, y_pred),\n",
    "        \"confusion_matrix\": cm\n",
    "    }\n",
    "    \n",
    "    return metrics\n"
   ]
  },
  {
   "cell_type": "code",
   "execution_count": 4,
   "id": "f050bd51",
   "metadata": {},
   "outputs": [
    {
     "name": "stdout",
     "output_type": "stream",
     "text": [
      "   fixed acidity  volatile acidity  citric acid  residual sugar  chlorides  \\\n",
      "0            7.4              0.70         0.00             1.9      0.076   \n",
      "1            7.8              0.88         0.00             2.6      0.098   \n",
      "2            7.8              0.76         0.04             2.3      0.092   \n",
      "3           11.2              0.28         0.56             1.9      0.075   \n",
      "4            7.4              0.66         0.00             1.8      0.075   \n",
      "\n",
      "   free sulfur dioxide  total sulfur dioxide  density    pH  sulphates  \\\n",
      "0                 11.0                  34.0   0.9978  3.51       0.56   \n",
      "1                 25.0                  67.0   0.9968  3.20       0.68   \n",
      "2                 15.0                  54.0   0.9970  3.26       0.65   \n",
      "3                 17.0                  60.0   0.9980  3.16       0.58   \n",
      "4                 13.0                  40.0   0.9978  3.51       0.56   \n",
      "\n",
      "   alcohol  quality  \n",
      "0      9.4        5  \n",
      "1      9.8        5  \n",
      "2      9.8        5  \n",
      "3      9.8        6  \n",
      "4      9.4        5  \n",
      "              precision    recall  f1-score   support\n",
      "\n",
      "           3       0.00      0.00      0.00         4\n",
      "           4       0.00      0.00      0.00        11\n",
      "           5       0.72      0.73      0.73       120\n",
      "           6       0.58      0.74      0.65       103\n",
      "           7       0.72      0.42      0.53        31\n",
      "           8       0.00      0.00      0.00         3\n",
      "\n",
      "    accuracy                           0.65       272\n",
      "   macro avg       0.34      0.32      0.32       272\n",
      "weighted avg       0.62      0.65      0.63       272\n",
      "\n",
      "[[ 0  0  4  0  0  0]\n",
      " [ 0  0  6  5  0  0]\n",
      " [ 0  0 88 32  0  0]\n",
      " [ 0  0 22 76  4  1]\n",
      " [ 0  0  2 15 13  1]\n",
      " [ 0  0  0  2  1  0]]\n"
     ]
    },
    {
     "name": "stderr",
     "output_type": "stream",
     "text": [
      "c:\\Users\\julio\\AppData\\Local\\Programs\\Python\\Python313\\Lib\\site-packages\\sklearn\\metrics\\_classification.py:1565: UndefinedMetricWarning: Precision is ill-defined and being set to 0.0 in labels with no predicted samples. Use `zero_division` parameter to control this behavior.\n",
      "  _warn_prf(average, modifier, f\"{metric.capitalize()} is\", len(result))\n",
      "c:\\Users\\julio\\AppData\\Local\\Programs\\Python\\Python313\\Lib\\site-packages\\sklearn\\metrics\\_classification.py:1565: UndefinedMetricWarning: Precision is ill-defined and being set to 0.0 in labels with no predicted samples. Use `zero_division` parameter to control this behavior.\n",
      "  _warn_prf(average, modifier, f\"{metric.capitalize()} is\", len(result))\n",
      "c:\\Users\\julio\\AppData\\Local\\Programs\\Python\\Python313\\Lib\\site-packages\\sklearn\\metrics\\_classification.py:1565: UndefinedMetricWarning: Precision is ill-defined and being set to 0.0 in labels with no predicted samples. Use `zero_division` parameter to control this behavior.\n",
      "  _warn_prf(average, modifier, f\"{metric.capitalize()} is\", len(result))\n"
     ]
    },
    {
     "data": {
      "image/png": "[encoded data removed]",
      "text/plain": [
       "<Figure size 800x600 with 2 Axes>"
      ]
     },
     "metadata": {},
     "output_type": "display_data"
    },
    {
     "ename": "AttributeError",
     "evalue": "'numpy.ndarray' object has no attribute 'columns'",
     "output_type": "error",
     "traceback": [
      "\u001b[31m---------------------------------------------------------------------------\u001b[39m",
      "\u001b[31mAttributeError\u001b[39m                            Traceback (most recent call last)",
      "\u001b[36mCell\u001b[39m\u001b[36m \u001b[39m\u001b[32mIn[4]\u001b[39m\u001b[32m, line 1\u001b[39m\n\u001b[32m----> \u001b[39m\u001b[32m1\u001b[39m metrics = \u001b[43mrandom_forest_model\u001b[49m\u001b[43m(\u001b[49m\u001b[33;43m\"\u001b[39;49m\u001b[33;43m../cleanDatasets/winequality-red_cleaned.csv\u001b[39;49m\u001b[33;43m\"\u001b[39;49m\u001b[43m,\u001b[49m\u001b[43m \u001b[49m\u001b[43mtarget_column\u001b[49m\u001b[43m=\u001b[49m\u001b[33;43m\"\u001b[39;49m\u001b[33;43mquality\u001b[39;49m\u001b[33;43m\"\u001b[39;49m\u001b[43m,\u001b[49m\u001b[43m \u001b[49m\u001b[43mscale\u001b[49m\u001b[43m=\u001b[49m\u001b[38;5;28;43;01mTrue\u001b[39;49;00m\u001b[43m)\u001b[49m\n\u001b[32m      3\u001b[39m metrics = random_forest_model(\u001b[33m\"\u001b[39m\u001b[33m../cleanDatasets/winequality-white_cleaned.csv\u001b[39m\u001b[33m\"\u001b[39m, target_column=\u001b[33m\"\u001b[39m\u001b[33mquality\u001b[39m\u001b[33m\"\u001b[39m, scale=\u001b[38;5;28;01mTrue\u001b[39;00m)\n",
      "\u001b[36mCell\u001b[39m\u001b[36m \u001b[39m\u001b[32mIn[3]\u001b[39m\u001b[32m, line 56\u001b[39m, in \u001b[36mrandom_forest_model\u001b[39m\u001b[34m(csv_file, target_column, scale)\u001b[39m\n\u001b[32m     54\u001b[39m \u001b[38;5;66;03m# Gráfico de importancia de características\u001b[39;00m\n\u001b[32m     55\u001b[39m plt.figure(figsize=(\u001b[32m10\u001b[39m,\u001b[32m6\u001b[39m))\n\u001b[32m---> \u001b[39m\u001b[32m56\u001b[39m sns.barplot(x=importances[indices], y=\u001b[43mX\u001b[49m\u001b[43m.\u001b[49m\u001b[43mcolumns\u001b[49m[indices])\n\u001b[32m     57\u001b[39m plt.title(\u001b[33m'\u001b[39m\u001b[33mImportancia de las Características\u001b[39m\u001b[33m'\u001b[39m)\n\u001b[32m     58\u001b[39m plt.show()\n",
      "\u001b[31mAttributeError\u001b[39m: 'numpy.ndarray' object has no attribute 'columns'"
     ]
    },
    {
     "data": {
      "text/plain": [
       "<Figure size 1000x600 with 0 Axes>"
      ]
     },
     "metadata": {},
     "output_type": "display_data"
    }
   ],
   "source": [
    "metrics = random_forest_model(\"../cleanDatasets/winequality-red_cleaned.csv\", target_column=\"quality\", scale=True)\n",
    "\n",
    "metrics = random_forest_model(\"../cleanDatasets/winequality-white_cleaned.csv\", target_column=\"quality\", scale=True)"
   ]
  }
 ],
 "metadata": {
  "kernelspec": {
   "display_name": "Python 3",
   "language": "python",
   "name": "python3"
  },
  "language_info": {
   "codemirror_mode": {
    "name": "ipython",
    "version": 3
   },
   "file_extension": ".py",
   "mimetype": "text/x-python",
   "name": "python",
   "nbconvert_exporter": "python",
   "pygments_lexer": "ipython3",
   "version": "3.13.2"
  }
 },
 "nbformat": 4,
 "nbformat_minor": 5
}
